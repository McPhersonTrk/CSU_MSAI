{
 "cells": [
  {
   "cell_type": "code",
   "execution_count": 10,
   "metadata": {},
   "outputs": [
    {
     "name": "stdout",
     "output_type": "stream",
     "text": [
      "Total months: 36\n",
      "Total rainfall: 237.0\n",
      "Average rainfall: 6.583333333333333\n"
     ]
    }
   ],
   "source": [
    "# Part 1\n",
    "'''Write a program that uses nested loops to collect data and calculate the average rainfall\n",
    "over a period of years. The program should first ask for the number of years. The outer loop\n",
    "will iterate once for each year. The inner loop will iterate twelve times, once for each month.\n",
    "Each iteration of the inner loop will ask the user for the inches of rainfall for that month.\n",
    "After all iterations, the program should display the number of months, the total inches of rainfall,\n",
    "and the average rainfall per month for the entire period.'''\n",
    "\n",
    "# Get the number of years\n",
    "years = int(input(\"Enter the number of years: \"))\n",
    "ttl_rainfall = 0\n",
    "ttl_months = years * 12\n",
    "\n",
    "# Outerloop: loops through the years\n",
    "for year in range(1, years + 1):\n",
    "    # Innerloop: loops through all twelve months for each year.\n",
    "    for month in range(1, 13):\n",
    "        rainfall = float(input(f\"Enter the rainfall for year {year}, month {month}: \"))\n",
    "        ttl_rainfall += rainfall\n",
    "        \n",
    "avg_rainfall = ttl_rainfall / ttl_months\n",
    "print(f\"Total months: {ttl_months}\")\n",
    "print(f\"Total rainfall: {ttl_rainfall}\")\n",
    "print(f\"Average rainfall: {avg_rainfall}\")\n"
   ]
  },
  {
   "cell_type": "code",
   "execution_count": 13,
   "metadata": {},
   "outputs": [
    {
     "name": "stdout",
     "output_type": "stream",
     "text": [
      "Qualifying Books purchased: 12\n",
      "Points awarded: 60\n"
     ]
    }
   ],
   "source": [
    "# Part 2\n",
    "'''\n",
    "The CSU Global Bookstore has a book club that awards points to its students\n",
    "based on the number of books purchased each month.\n",
    "The points are awarded as follows:\n",
    "--If a customer purchases 0 books, they earn 0 points.\n",
    "--If a customer purchases 2 books, they earn 5 points.\n",
    "--If a customer purchases 4 books, they earn 15 points.\n",
    "--If a customer purchases 6 books, they earn 30 points.\n",
    "--If a customer purchases 8 or more books, they earn 60 points.\n",
    "Write a program that asks the user to enter the number of books that they have\n",
    "purchased this month and then display the number of points awarded.'''\n",
    "\n",
    "# get the number of books purchased\n",
    "books = int(input(\"Enter the number of books purchased: \"))\n",
    "points = 0\n",
    "\n",
    "# odd number of books purchased creates a bug\n",
    "# adust inpput to round down to nearest even number\n",
    "if books % 2 != 0:  # if books/2 has a non-0 remainder (it's odd) &\n",
    "    books -= 1 # then subtract 1 from the number of books.\n",
    "\n",
    "if books == 0: points = 0\n",
    "elif books <= 2: points = 5 #\n",
    "elif books <= 4: points = 15\n",
    "elif books <= 6: points = 30\n",
    "elif books >= 8: points = 60\n",
    "# display the number of books purchased and points awarded\n",
    "print(f\"Qualifying Books Purchased: {books}\")\n",
    "print(f\"Points awarded: {points}\")\n",
    "\n"
   ]
  },
  {
   "cell_type": "code",
   "execution_count": 15,
   "metadata": {},
   "outputs": [
    {
     "name": "stdout",
     "output_type": "stream",
     "text": [
      "Books Purchased: 12\n",
      "Points awarded: 110\n"
     ]
    }
   ],
   "source": [
    "''' Same problem as above but here the points are stacked.\n",
    "'''\n",
    "# Get the number of books purchased\n",
    "books2 = int(input(\"Enter the number of books purchased: \"))\n",
    "points2 = 0\n",
    "\n",
    "# odd number of books purchased creates a bug\n",
    "# adust inpput to round down to nearest even number\n",
    "if books2 % 2 != 0:  # if books/2 has a non-0 remainder (it's odd) &\n",
    "    books2 -= 1 # then subtract 1 from the number of books.\n",
    "\n",
    "# calculate the stacked points awarded.\n",
    "# run decending sequence to stack the points.\n",
    "if books2 >= 8: points2 += 60\n",
    "if books2 >= 6: points2 += 30\n",
    "if books2 >= 4: points2 += 15\n",
    "if books2 >= 2: points2 += 5\n",
    "if books2 == 0: points2 = 0\n",
    "\n",
    "# print the points awarded.\n",
    "print(f\"Qualifying Books Purchased: {books}\")\n",
    "print(f\"Points awarded: {points2}\")\n",
    "\n"
   ]
  },
  {
   "cell_type": "code",
   "execution_count": 18,
   "metadata": {},
   "outputs": [
    {
     "name": "stdout",
     "output_type": "stream",
     "text": [
      "Qualifying Books Purchased: 6\n",
      "Points awarded: 50\n",
      "\n",
      "Qualifying Books Purchased: 14\n",
      "Points awarded: 110\n",
      "\n",
      "Qualifying Books Purchased: 4\n",
      "Points awarded: 20\n",
      "\n"
     ]
    }
   ],
   "source": [
    "'''here is the same code but using an inner/outer loop structure'''\n",
    "# this one allowys you do calulate points for multiple customers.\n",
    "# the ourter loop will ask the user for the number of customers.\n",
    "# each iteration of the inner loop will ask the user for the number of books purchased.\n",
    "\n",
    "# number of customers\n",
    "customers = int(input(\"Enter the number of customers: \"))\n",
    "# Outer loop: loops through the customers\n",
    "for customer in range(1, customers + 1):\n",
    "    # Get the number of books purchased\n",
    "    books3 = int(input(f\"Enter the number of books purchased by customer {customer}: \"))\n",
    "    points3 = 0\n",
    "\n",
    "    # odd number of books purchased creates a bug\n",
    "    # adust inpput to round down to nearest even number\n",
    "    if books3 % 2 != 0: # if books/2 has a non-0 remainder (it's odd) &\n",
    "        books3 -= 1 # then subtract 1 from the number of books.\n",
    "\n",
    "    # calculate the stacked points awarded.\n",
    "    # run decending sequence to stack the points.\n",
    "    if books3 >= 8: points3 += 60\n",
    "    if books3 >= 6: points3 += 30\n",
    "    if books3 >= 4: points3 += 15\n",
    "    if books3 >= 2: points3 += 5\n",
    "    if books3 == 0: points3 = 0\n",
    "\n",
    "    # print the points awarded.\n",
    "    print(f\"Qualifying Books Purchased: {books3}\")\n",
    "    print(f\"Points awarded: {points3}\")\n",
    "    print() # print a blank line between each customer's data."
   ]
  }
 ],
 "metadata": {
  "kernelspec": {
   "display_name": "base",
   "language": "python",
   "name": "python3"
  },
  "language_info": {
   "codemirror_mode": {
    "name": "ipython",
    "version": 3
   },
   "file_extension": ".py",
   "mimetype": "text/x-python",
   "name": "python",
   "nbconvert_exporter": "python",
   "pygments_lexer": "ipython3",
   "version": "3.11.5"
  }
 },
 "nbformat": 4,
 "nbformat_minor": 2
}
