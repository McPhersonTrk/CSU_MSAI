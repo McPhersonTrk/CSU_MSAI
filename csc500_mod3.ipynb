{
 "cells": [
  {
   "cell_type": "code",
   "execution_count": 38,
   "metadata": {},
   "outputs": [
    {
     "name": "stdout",
     "output_type": "stream",
     "text": [
      "This month's staycation spot is:  Black Canyon of the Gunnison National Park, CO\n"
     ]
    }
   ],
   "source": [
    "# create an array for bringing joy to life.\n",
    "#lets examine stacations!\n",
    "#create an array of stacation spots within 500 miles of Denver, CO\n",
    "# note: for the array data I literally googled a \"list of 24 staycation spots within 500 miles of Denver, CO\"\n",
    "\"\"\" use the following code to randomly select a stacation spot for a monthly escape from life and reality\"\"\"\n",
    "\n",
    "import random\n",
    "\n",
    "staycation_spots = [ \"Rocky Mountain National Park, CO\", \"Aspen, CO\", \"Vail, CO\", \"Breckenridge, CO\", \"Estes Park, CO\",\n",
    "    \"Garden of the Gods, CO\", \"Great Sand Dunes National Park, CO\", \"Colorado Springs, CO\", \"Boulder, CO\",\n",
    "    \"Winter Park, CO\", \"Durango, CO\", \"Telluride, CO\", \"Glenwood Springs, CO\", \"Steamboat Springs, CO\", \"Pikes Peak, CO\",\n",
    "    \"Black Canyon of the Gunnison National Park, CO\", \"Cheyenne, WY\", \"Fort Collins, CO\", \"Salida, CO\", \"Pagosa Springs, CO\",\n",
    "    \"Royal Gorge Bridge and Park, CO\", \"Taos, NM\", \"Santa Fe, NM\", \"Mesa Verde National Park, CO\"]\n",
    "\n",
    "print(\"This month's staycation spot is: \", random.choice(staycation_spots))\n",
    "\n"
   ]
  },
  {
   "cell_type": "code",
   "execution_count": 39,
   "metadata": {},
   "outputs": [
    {
     "name": "stdout",
     "output_type": "stream",
     "text": [
      "today's hiking trail is:  St. Mary's Glacier, Idaho Springs\n"
     ]
    }
   ],
   "source": [
    "# the same thing can be done for hiking trails:\n",
    "# Here  googled \"24 best hiking trails in Colorado\"\n",
    "# then created an array of the hiking trails\n",
    "\n",
    "hiking_trails = [\n",
    "    \"Chautauqua Trail, Boulder\", \"Emerald Lake Trail, Rocky Mountain National Park\", \"Mount Elbert Trail, Leadville\", \"Hanging Lake Trail, Glenwood Springs\",\n",
    "    \"Royal Arch Trail, Boulder\", \"Maroon Bells Scenic Loop Trail, Aspen\", \"Bear Lake Trail, Rocky Mountain National Park\", \"Sky Pond via Glacier Gorge Trail, Rocky Mountain National Park\",\n",
    "    \"Garden of the Gods Loop, Colorado Springs\", \"Blue Lakes Trail, Ridgway\", \"The Manitou Incline, Manitou Springs\", \"Grays and Torreys Peaks Trail, Idaho Springs\",\n",
    "    \"Conundrum Hot Springs Trail, Aspen\", \"Mount Bierstadt Trail, Georgetown\", \"Fish Creek Falls Trail, Steamboat Springs\", \"Crater Lake Trail, Aspen\",\n",
    "    \"Dream Lake Trail, Rocky Mountain National Park\", \"Chief Mountain Trail, Idaho Springs\", \"Four Pass Loop, Aspen\", \"St. Mary's Glacier, Idaho Springs\",\n",
    "    \"Indian Peaks Wilderness, Nederland\", \"Ice Lakes Basin Trail, Silverton\", \"Lost Lake via Hessie Trail, Nederland\", \"Quandary Peak Trail, Breckenridge\"\n",
    "]\n",
    "\n",
    "print( \"today's hiking trail is: \", random.choice(hiking_trails))\n",
    "\n"
   ]
  },
  {
   "cell_type": "code",
   "execution_count": 55,
   "metadata": {},
   "outputs": [
    {
     "name": "stdout",
     "output_type": "stream",
     "text": [
      "today's dinner will be at:  Jax Fish House & Oyster Bar\n"
     ]
    }
   ],
   "source": [
    "\n",
    "# Here is the answer to that most frustrating marital question: \"where do you want to eat?\"\n",
    "# here is an array of 52 restaurants in Denver, CO. \n",
    "# datenight has now been saved. \n",
    "# \n",
    "# You're welcome.\n",
    "\n",
    "import random\n",
    "fiftytwo_restaurants_in_denver = [\"Acorn\", \"Adrift\", \"Annette\", \"Beast + Bottle\", \"Biker Jim's Gourmet Dogs\", \"Blue Pan Pizza\",\n",
    "    \"Brider\", \"Buckhorn Exchange\", \"ChoLon Modern Asian Bistro\", \"City, O' City\", \"Comal Heritage Food Incubator\", \"Coperta\",\n",
    "    \"Corrida\", \"Cuba Cuba Cafe & Bar\", \"D Bar Denver\", \"Death & Co Denver\", \"El Five\", \"Euclid Hall Bar & Kitchen\", \"Fruition Restaurant\",\n",
    "    \"Gaetano's\", \"Guard and Grace\", \"Hop Alley\", \"Jax Fish House & Oyster Bar\", \"Lao Wang Noodle House\", \"Leña\", \"Mercantile Dining & Provision\",\n",
    "    \"Mizuna\", \"Root Down\", \"Snooze, an A.M. Eatery\", \"Steuben's\", \"Stoic & Genuine\", \"Super Mega Bien\", \"Sushi Den\", \"Tables\", \"Tamayo\",\n",
    "    \"The Capital Grille\", \"The Denver Biscuit Company\", \"The Plimoth\", \"The Populist\", \"The Preservery\", \"The Wolf's Tailor\", \"True Food Kitchen\",\n",
    "    \"Uncle\", \"Uchi Denver\", \"Ultreia\", \"Vesta\",  \"Williams & Graham\", \"Work & Class\", \"Z Cuisine\", \"Zoe Ma Ma\", \"Zuma's Rescue Ranch Cafe\"\n",
    "]\n",
    "\n",
    "print( \"today's dinner will be at: \", random.choice(fiftytwo_restaurants_in_denver))\n"
   ]
  },
  {
   "cell_type": "code",
   "execution_count": null,
   "metadata": {},
   "outputs": [],
   "source": [
    "# create an array for bringing joy to life.\n",
    "#lets examine stacations!\n",
    "#create an array of stacation spots within 500 miles of Denver, CO\n",
    "# note: for the array data I literally googled a \"list of 24 staycation spots within 500 miles of Denver, CO\"\n",
    "\"\"\" use the following code to randomly select a stacation sppot for a monthly escape from life and reality\"\"\"\n",
    "\n",
    "import random\n",
    "\n",
    "staycation_spots = [ \"Rocky Mountain National Park, CO\", \"Aspen, CO\", \"Vail, CO\", \"Breckenridge, CO\", \"Estes Park, CO\",\n",
    "    \"Garden of the Gods, CO\", \"Great Sand Dunes National Park, CO\", \"Colorado Springs, CO\", \"Boulder, CO\",\n",
    "    \"Winter Park, CO\", \"Durango, CO\", \"Telluride, CO\", \"Glenwood Springs, CO\", \"Steamboat Springs, CO\", \"Pikes Peak, CO\",\n",
    "    \"Black Canyon of the Gunnison National Park, CO\", \"Cheyenne, WY\", \"Fort Collins, CO\", \"Salida, CO\", \"Pagosa Springs, CO\",\n",
    "    \"Royal Gorge Bridge and Park, CO\", \"Taos, NM\", \"Santa Fe, NM\", \"Mesa Verde National Park, CO\"]\n",
    "\n",
    "print(\"This month's staycation spot is: \", random.choice(staycation_spots))\n",
    "\n",
    "# the same thing can be done for hiking trails:\n",
    "hiking_trails = [\n",
    "    \"Chautauqua Trail, Boulder\", \"Emerald Lake Trail, Rocky Mountain National Park\", \"Mount Elbert Trail, Leadville\", \"Hanging Lake Trail, Glenwood Springs\",\n",
    "    \"Royal Arch Trail, Boulder\", \"Maroon Bells Scenic Loop Trail, Aspen\", \"Bear Lake Trail, Rocky Mountain National Park\", \"Sky Pond via Glacier Gorge Trail, Rocky Mountain National Park\",\n",
    "    \"Garden of the Gods Loop, Colorado Springs\", \"Blue Lakes Trail, Ridgway\", \"The Manitou Incline, Manitou Springs\", \"Grays and Torreys Peaks Trail, Idaho Springs\",\n",
    "    \"Conundrum Hot Springs Trail, Aspen\", \"Mount Bierstadt Trail, Georgetown\", \"Fish Creek Falls Trail, Steamboat Springs\", \"Crater Lake Trail, Aspen\",\n",
    "    \"Dream Lake Trail, Rocky Mountain National Park\", \"Chief Mountain Trail, Idaho Springs\", \"Four Pass Loop, Aspen\", \"St. Mary's Glacier, Idaho Springs\",\n",
    "    \"Indian Peaks Wilderness, Nederland\", \"Ice Lakes Basin Trail, Silverton\", \"Lost Lake via Hessie Trail, Nederland\", \"Quandary Peak Trail, Breckenridge\"\n",
    "]\n",
    "\n",
    "print( \"today's hiking trail is: \", random.choice(hiking_trails))\n",
    "\n",
    "\n",
    "# Here is a real marriage saver!\n",
    "# Here is the answer to that most frustrating marital question: \"where do you want to eat?\"\n",
    "# Create an array of restaurants to choose from when you just can't decide where to eat.\n",
    "\n",
    "import random\n",
    "fiftytwo_restaurants_in_denver = [\"Acorn\", \"Adrift\", \"Annette\", \"Beast + Bottle\", \"Biker Jim's Gourmet Dogs\", \"Blue Pan Pizza\",\n",
    "    \"Brider\", \"Buckhorn Exchange\", \"ChoLon Modern Asian Bistro\", \"City, O' City\", \"Comal Heritage Food Incubator\", \"Coperta\",\n",
    "    \"Corrida\", \"Cuba Cuba Cafe & Bar\", \"D Bar Denver\", \"Death & Co Denver\", \"El Five\", \"Euclid Hall Bar & Kitchen\", \"Fruition Restaurant\",\n",
    "    \"Gaetano's\", \"Guard and Grace\", \"Hop Alley\", \"Jax Fish House & Oyster Bar\", \"Lao Wang Noodle House\", \"Leña\", \"Mercantile Dining & Provision\",\n",
    "    \"Mizuna\", \"Root Down\", \"Snooze, an A.M. Eatery\", \"Steuben's\", \"Stoic & Genuine\", \"Super Mega Bien\", \"Sushi Den\", \"Tables\", \"Tamayo\",\n",
    "    \"The Capital Grille\", \"The Denver Biscuit Company\", \"The Plimoth\", \"The Populist\", \"The Preservery\", \"The Wolf's Tailor\", \"True Food Kitchen\",\n",
    "    \"Uncle\", \"Uchi Denver\", \"Ultreia\", \"Vesta\",  \"Williams & Graham\", \"Work & Class\", \"Z Cuisine\", \"Zoe Ma Ma\", \"Zuma's Rescue Ranch Cafe\"\n",
    "]\n",
    "\n",
    "print( \"today's dinner will be at: \", random.choice(fiftytwo_restaurants_in_denver))"
   ]
  },
  {
   "cell_type": "code",
   "execution_count": null,
   "metadata": {},
   "outputs": [],
   "source": []
  }
 ],
 "metadata": {
  "kernelspec": {
   "display_name": "base",
   "language": "python",
   "name": "python3"
  },
  "language_info": {
   "codemirror_mode": {
    "name": "ipython",
    "version": 3
   },
   "file_extension": ".py",
   "mimetype": "text/x-python",
   "name": "python",
   "nbconvert_exporter": "python",
   "pygments_lexer": "ipython3",
   "version": "3.11.5"
  }
 },
 "nbformat": 4,
 "nbformat_minor": 2
}
