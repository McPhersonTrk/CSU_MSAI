{
 "cells": [
  {
   "cell_type": "code",
   "execution_count": null,
   "metadata": {},
   "outputs": [],
   "source": [
    "def main():\n",
    "    # Dictionary of course numbers and room numbers\n",
    "    rooms = {\n",
    "        'CSC101': '3004',\n",
    "        'CSC102': '4501',\n",
    "        'CSC103': '6755',\n",
    "        'NET110': '1244',\n",
    "        'COM241': '1411'\n",
    "    }\n",
    "\n",
    "    # Dictionary of course numbers and instructors\n",
    "    instructors = {\n",
    "        'CSC101': 'Haynes',\n",
    "        'CSC102': 'Alvarado',\n",
    "        'CSC103': 'Rich',\n",
    "        'NET110': 'Burke',\n",
    "        'COM241': 'Lee'\n",
    "    }\n",
    "\n",
    "    # Dictionary of course numbers and meeting times\n",
    "    meeting_times = {\n",
    "        'CSC101': '8:00 a.m.',\n",
    "        'CSC102': '9:00 a.m.',\n",
    "        'CSC103': '10:00 a.m.',\n",
    "        'NET110': '11:00 a.m.',\n",
    "        'COM241': '1:00 p.m.'\n",
    "    }\n",
    "\n",
    "    # Get user input\n",
    "    course_number = input(\"Enter a course number (e.g., CSC101): \")\n",
    "\n",
    "    # Display the course details\n",
    "    if course_number in rooms:\n",
    "        print(f\"Room Number: {rooms[course_number]}\")\n",
    "        print(f\"Instructor: {instructors[course_number]}\")\n",
    "        print(f\"Meeting Time: {meeting_times[course_number]}\")\n",
    "    else:\n",
    "        print(\"That course number does not exist.\")\n",
    "\n",
    "if __name__ == \"__main__\":\n",
    "    main()\n"
   ]
  },
  {
   "cell_type": "code",
   "execution_count": 2,
   "metadata": {},
   "outputs": [
    {
     "name": "stdout",
     "output_type": "stream",
     "text": [
      "Course Number: NET110\n",
      "Instructor: Burke\n",
      "Room Number: 1244\n",
      "Meeting Time: 11:00 a.m.\n"
     ]
    }
   ],
   "source": [
    "#The program should let the user enter a course number and then it should display the course's room number, instructor, and meeting time.\n",
    "# create three dictionaries: \n",
    "# one that maps course numbers to room numbers, \n",
    "# one that maps course numbers to instructors, \n",
    "# and one that maps course numbers to meeting times.\n",
    "\n",
    "# create a function that gets user input for a course number and then displays the course's room number, instructor, and meeting time.\n",
    "# If the course number doesn't exist in the dictionaries, the program should display a message saying that the course number doesn't exist.\n",
    "# The program should continue to prompt the user for input until the user enters a valid\n",
    "\n",
    "# Main function:\n",
    "def main():\n",
    "    # Room number dicytionary\n",
    "    classroom = {'CSC101': '3004', 'CSC102': '4501', 'CSC103': '6755', 'NET110': '1244', 'COM241': '1411'}\n",
    "    # Instructor dictionary\n",
    "    instructor = {'CSC101': 'Haynes', 'CSC102': 'Alvarado', 'CSC103': 'Rich', 'NET110': 'Burke', 'COM241': 'Lee'}\n",
    "    # Meeting time dictionary\n",
    "    start_time = {'CSC101': '8:00 a.m.', 'CSC102': '9:00 a.m.', 'CSC103': '10:00 a.m.', 'NET110': '11:00 a.m.', 'COM241': '1:00 p.m.'}\n",
    "\n",
    "    while True:\n",
    "        # get user input\n",
    "        course_number= input(\"Enter a course number (e.g., CSC101): \").strip().upper()\n",
    "        # Print the course details\n",
    "        if course_number in classroom:\n",
    "            print(f\"Course Number: {course_number}\")\n",
    "            print(f\"Instructor: {instructor[course_number]}\")\n",
    "            print(f\"Room Number: {classroom[course_number]}\")\n",
    "            print(f\"Meeting Time: {start_time[course_number]}\")\n",
    "            break #exit the loop if the course number is valid\n",
    "        else:\n",
    "            print(\"That course number does not exist.\")\n",
    "#call the fuinction\n",
    "if __name__ == \"__main__\":\n",
    "    main()\n"
   ]
  },
  {
   "cell_type": "code",
   "execution_count": null,
   "metadata": {},
   "outputs": [],
   "source": []
  }
 ],
 "metadata": {
  "kernelspec": {
   "display_name": "base",
   "language": "python",
   "name": "python3"
  },
  "language_info": {
   "codemirror_mode": {
    "name": "ipython",
    "version": 3
   },
   "file_extension": ".py",
   "mimetype": "text/x-python",
   "name": "python",
   "nbconvert_exporter": "python",
   "pygments_lexer": "ipython3",
   "version": "3.11.5"
  }
 },
 "nbformat": 4,
 "nbformat_minor": 2
}
