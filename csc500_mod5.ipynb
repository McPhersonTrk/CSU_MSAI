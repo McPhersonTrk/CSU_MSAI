{
 "cells": [
  {
   "cell_type": "code",
   "execution_count": null,
   "metadata": {},
   "outputs": [],
   "source": [
    "# did the kids earn their allowance this week?\n",
    "chores = input(\" did you do your chores? \").strip().lower\n",
    "homework = input(\" did you do your homework? \").strip().lower\n",
    "if chores == 'yes' and homework == \"yes\":\n",
    "    print(\"you earned your allowance\")\n",
    "else:\n",
    "    print(\"no allowance for you!\")"
   ]
  },
  {
   "cell_type": "code",
   "execution_count": null,
   "metadata": {},
   "outputs": [],
   "source": [
    "# Discount qilifcation.\n",
    "#If the customer is a senion, they get a 10% discount.\n",
    "#if the customer is a veteran, they get a 10% discount.\n",
    "#if the customer is a student, they get a 10% discount.\n",
    "#If the customer is a teacher, they get a 10% discount.\n",
    "\n",
    "discount_criteria = {\n",
    "    'senior': input('Are you a senior? (y/n): ').strip().lower(),\n",
    "    'veteran': input('Are you a veteran? (y/n): ').strip().lower(),\n",
    "    'student': input('Are you a student? (y/n): ').strip().lower(),\n",
    "    'teacher': input('Are you a teacher? (y/n): ').strip().lower()\n",
    "}\n",
    "if 'y' in discount_criteria.values():\n",
    "    print(\"you get a 10% discount\")\n",
    "else:\n",
    "    print(\"no discount for you\")             "
   ]
  },
  {
   "cell_type": "code",
   "execution_count": 8,
   "metadata": {},
   "outputs": [
    {
     "name": "stdout",
     "output_type": "stream",
     "text": [
      "your total discount is 40%\n"
     ]
    }
   ],
   "source": [
    "# Discount qilifcation.\n",
    "#If the customer is a senion, they get a 10% discount.\n",
    "#if the customer is a veteran, they get a 10% discount.\n",
    "#if the customer is a student, they get a 10% discount.\n",
    "#If the customer is a teacher, they get a 10% discount.\n",
    "\n",
    "#set discount rate\n",
    "dis_rate= 0.10\n",
    "#create a list of discounts recieved\n",
    "discounts = []\n",
    "\n",
    "discount_criteria = {\n",
    "    'senior': input('Are you a senior? (y/n): ').strip().lower(),\n",
    "    'veteran': input('Are you a veteran? (y/n): ').strip().lower(),\n",
    "    'student': input('Are you a student? (y/n): ').strip().lower(),\n",
    "    'teacher': input('Are you a teacher? (y/n): ').strip().lower()\n",
    "}\n",
    "\n",
    "#check if the customer qualifies for a discount\n",
    "for key, value in discount_criteria.items():\n",
    "    if value == 'y':\n",
    "        discounts.append(dis_rate)\n",
    "\n",
    "# add up the discounts\n",
    "total_discount = sum(discounts)\n",
    "# print the total discount\n",
    "if total_discount > 0:\n",
    "    print(f\"your total discount is {total_discount*100:.0f}%\")\n",
    "else:\n",
    "    print(\"no discount for you\")\n"
   ]
  },
  {
   "cell_type": "code",
   "execution_count": 9,
   "metadata": {},
   "outputs": [
    {
     "name": "stdout",
     "output_type": "stream",
     "text": [
      "Your total discount is 20%\n"
     ]
    }
   ],
   "source": [
    "# Discount qualification program using \"and/or\" operators   \n",
    "\n",
    "# Set discount rate\n",
    "dis_rate = 0.10\n",
    "\n",
    "# Input for discount criteria\n",
    "senior = input('Are you a senior? (y/n): ').strip().lower() == 'y'\n",
    "veteran = input('Are you a veteran? (y/n): ').strip().lower() == 'y'\n",
    "student = input('Are you a student? (y/n): ').strip().lower() == 'y'\n",
    "teacher = input('Are you a teacher? (y/n): ').strip().lower() == 'y'\n",
    "\n",
    "# Calculate the total discount based on conditions\n",
    "total_discount = 0\n",
    "\n",
    "if senior or veteran or student or teacher:\n",
    "    # add up how many conditions are true and multiply by discount rate\n",
    "    total_discount = (senior + veteran + student + teacher) * dis_rate\n",
    "\n",
    "# Print the total discount\n",
    "if total_discount > 0:\n",
    "    print(f\"Your total discount is {total_discount * 100:.0f}%\")\n",
    "else:\n",
    "    print(\"No discount for you.\")\n"
   ]
  }
 ],
 "metadata": {
  "kernelspec": {
   "display_name": "base",
   "language": "python",
   "name": "python3"
  },
  "language_info": {
   "codemirror_mode": {
    "name": "ipython",
    "version": 3
   },
   "file_extension": ".py",
   "mimetype": "text/x-python",
   "name": "python",
   "nbconvert_exporter": "python",
   "pygments_lexer": "ipython3",
   "version": "3.11.5"
  }
 },
 "nbformat": 4,
 "nbformat_minor": 2
}
