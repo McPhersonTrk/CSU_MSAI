{
 "cells": [
  {
   "cell_type": "code",
   "execution_count": null,
   "metadata": {},
   "outputs": [],
   "source": [
    "# did the kids earn their allowance this week?\n",
    "chores = input(\" did you do your chores? \").strip().lower\n",
    "homework = input(\" did you do your homework? \").strip().lower\n",
    "if chores == 'yes' and homework == \"yes\":\n",
    "    print(\"you earned your allowance\")\n",
    "else:\n",
    "    print(\"no allowance for you!\")"
   ]
  },
  {
   "cell_type": "code",
   "execution_count": null,
   "metadata": {},
   "outputs": [],
   "source": [
    "# Discount qilifcation.\n",
    "#If the customer is a senion, they get a 10% discount.\n",
    "#if the customer is a veteran, they get a 10% discount.\n",
    "#if the customer is a student, they get a 10% discount.\n",
    "#If the customer is a teacher, they get a 10% discount.\n",
    "\n",
    "discount_criteria = {\n",
    "    'senior': input('Are you a senior? (y/n): ').strip().lower(),\n",
    "    'veteran': input('Are you a veteran? (y/n): ').strip().lower(),\n",
    "    'student': input('Are you a student? (y/n): ').strip().lower(),\n",
    "    'teacher': input('Are you a teacher? (y/n): ').strip().lower()\n",
    "}\n",
    "if 'y' in discount_criteria.values():\n",
    "    print(\"you get a 10% discount\")\n",
    "else:\n",
    "    print(\"no discount for you\")             "
   ]
  }
 ],
 "metadata": {
  "language_info": {
   "name": "python"
  }
 },
 "nbformat": 4,
 "nbformat_minor": 2
}
