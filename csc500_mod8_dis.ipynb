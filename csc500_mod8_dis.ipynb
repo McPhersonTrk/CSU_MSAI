{
 "cells": [
  {
   "cell_type": "code",
   "execution_count": null,
   "metadata": {},
   "outputs": [],
   "source": [
    "# create a class called \"animalia\" with the following attributes: kingdom, phylum, class, order, family, genus, species\n",
    "def animalia():\n",
    "    class animalia:\n",
    "        def __init__(self, kingdom, phylum, class_, order, family, genus, species):\n",
    "            self.kingdom = kingdom\n",
    "            self.phylum = phylum\n",
    "            self.class_ = class_\n",
    "            self.order = order\n",
    "            self.family = family\n",
    "            self.genus = genus\n",
    "            self.species = species\n",
    "    return animalia\n",
    "\n",
    "# create a class called \"mammalia\" that inherits from \"animalia\" and has the following attributes: hair, live_birth, warm_blooded\n",
    "def mammalia():\n",
    "    class mammalia(animalia()):\n",
    "        def __init__(self, kingdom, phylum, class_, order, family, genus, species, hair, live_birth, warm_blooded):\n",
    "            super().__init__(kingdom, phylum, class_, order, family, genus, species)\n",
    "            self.hair = hair\n",
    "            self.live_birth = live_birth\n",
    "            self.warm_blooded = warm_blooded\n",
    "    return mammalia\n",
    "\n",
    "# create a class called \"primate\" that inherits from \"mammalia\" and has the following attributes: opposable_thumbs, binocular_vision\n",
    "def primate():\n",
    "    class primate(mammalia()):\n",
    "        def __init__(self, kingdom, phylum, class_, order, family, genus, species, hair, live_birth, warm_blooded, opposable_thumbs, binocular_vision):\n",
    "            super().__init__(kingdom, phylum, class_, order, family, genus, species, hair, live_birth, warm_blooded)\n",
    "            self.opposable_thumbs = opposable_thumbs\n",
    "            self.binocular_vision = binocular_vision\n",
    "    return primate\n",
    "\n",
    "# get user input for an animal. and then look up the attirbutes for that animal\n",
    "\n",
    "\n"
   ]
  },
  {
   "cell_type": "code",
   "execution_count": 3,
   "metadata": {},
   "outputs": [
    {
     "name": "stdout",
     "output_type": "stream",
     "text": [
      "Human Action\n",
      "Ludwig von Mises\n",
      "Non-Fiction\n",
      "900\n",
      "'Human Action' by Ludwig von Mises, Non-Fiction, 900 pages\n"
     ]
    }
   ],
   "source": [
    "# Define a simple class called \"Book\"\n",
    "class Book:\n",
    "    def __init__(self, title, author, type, pages):\n",
    "        self.title = title      # Book's title\n",
    "        self.author = author    # Book's author\n",
    "        self.pages = pages      # Number of pages in the book\n",
    "        self.type = \"Fiction\"   # Default value for the type attribute\n",
    "        self.type = \"Non-Fiction\" # Change the value of the type attribute\n",
    "\n",
    "    # Define a method to display the book's information\n",
    "    def display_info(self):\n",
    "        print(f\"'{self.title}' by {self.author}, {self.type}, {self.pages} pages\")\n",
    "\n",
    "# Create an instance of the Book class\n",
    "my_book = Book(\"Human Action\", \"Ludwig von Mises\", \"Non-Fiction\", 900)\n",
    "\n",
    "# Access the book's attributes and call the method\n",
    "print(my_book.title)       # Output: title\n",
    "print(my_book.author)      # Output: Author\n",
    "print(my_book.type)        # Output: Fiction/Non-Fiction\n",
    "print(my_book.pages)       # Output: Pages\n",
    "my_book.display_info()     # Output: 'Title' by Author, # pages\n"
   ]
  }
 ],
 "metadata": {
  "kernelspec": {
   "display_name": "base",
   "language": "python",
   "name": "python3"
  },
  "language_info": {
   "codemirror_mode": {
    "name": "ipython",
    "version": 3
   },
   "file_extension": ".py",
   "mimetype": "text/x-python",
   "name": "python",
   "nbconvert_exporter": "python",
   "pygments_lexer": "ipython3",
   "version": "3.11.5"
  }
 },
 "nbformat": 4,
 "nbformat_minor": 2
}
