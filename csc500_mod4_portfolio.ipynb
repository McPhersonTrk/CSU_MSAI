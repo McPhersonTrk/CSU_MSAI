{
 "cells": [
  {
   "cell_type": "code",
   "execution_count": 21,
   "metadata": {},
   "outputs": [
    {
     "name": "stdout",
     "output_type": "stream",
     "text": [
      "Bottled water 10 @ $1.00 = $10.00\n"
     ]
    }
   ],
   "source": [
    "class ItemToPurchase:\n",
    "    def __init__(self, item_name = \"none\", item_price = 0, item_quantity = 0):\n",
    "        #attributes\n",
    "        self.item_name = item_name\n",
    "        self.item_price = item_price\n",
    "        self.item_quantity = item_quantity\n",
    "    # Method to print the cost of an item.\n",
    "    def print_item_cost(self):\n",
    "        total_cost = self.item_price * self.item_quantity\n",
    "        print(f'{self.item_name}{self.item_quantity} @ ${self.item_price:.2f} = ${total_cost:.2f}')\n",
    "    \n",
    "# example:\n",
    "if __name__ == \"__main__\":\n",
    "    item_1 = ItemToPurchase('Bottled water ', 1.00, 10)\n",
    "    item_1.print_item_cost()\n",
    "\n",
    "                \n"
   ]
  },
  {
   "cell_type": "code",
   "execution_count": 28,
   "metadata": {},
   "outputs": [
    {
     "name": "stdout",
     "output_type": "stream",
     "text": [
      "\n",
      "TOTAL COST\n",
      "Stadium Dawg 6 @ $8.00 = $48.00\n",
      "Coke 6 @ $6.00 = $36.00\n",
      "\n",
      "Total: $84.00\n"
     ]
    }
   ],
   "source": [
    "# PART 1:\n",
    "# Define the ItemToPurchase class, which models an item with a name, price, and quantity\n",
    "class ItemToPurchase:\n",
    "    # Constructor: Initializes item attributes with default values\n",
    "    def __init__(self, item_name = \"none\", item_price = 0, item_quantity = 0):\n",
    "        #attributes\n",
    "        self.item_name = item_name\n",
    "        self.item_price = item_price\n",
    "        self.item_quantity = item_quantity\n",
    "    # Method to print the cost of an individual item (qty * price).\n",
    "    def print_item_cost(self):\n",
    "        total_cost = self.item_price * self.item_quantity\n",
    "        # Output and format the item name, quantity, price and total cost\n",
    "        print(f'{self.item_name} {self.item_quantity} @ ${self.item_price:.2f} = ${total_cost:.2f}')\n",
    "# PART 2:        \n",
    "    # Method to return the total cost of an item used for total cost calculations.\n",
    "    def get_total_cost(self):\n",
    "        return self.item_price * self.item_quantity\n",
    "# define a main function for the user to input the item name, price and quantity\n",
    "def main():\n",
    "    # prompt user to enter input for item_1\n",
    "    item_1_name = input('Enter the item name:\\n') # get name of item_1\n",
    "    item_1_price = float(input('Enter the item price:\\n')) # get price of item_1\n",
    "    item_1_quantity = int(input('Enter the item quantity:\\n')) # get quantity of item_1\n",
    "    # create an ItemToPurchase object for Item_1 using the inputed data.\n",
    "    item_1 = ItemToPurchase(item_1_name, item_1_price, item_1_quantity)\n",
    "    #print(f'\\n{item_1_name}')\n",
    "    # prompt user to enter input foritem_2\n",
    "    item_2_name = input('Enter the item name:\\n')# get name of item_2\n",
    "    item_2_price = float(input('Enter the item price:\\n')) # get price of item_2\n",
    "    item_2_quantity = int(input('Enter the item quantity:\\n')) # get quantity of item_2\n",
    "    # create an ItemToPurchase object for Item_2 using the inputed data\n",
    "    item_2 = ItemToPurchase(item_2_name, item_2_price, item_2_quantity)\n",
    "    #print(f'\\n{item_2_name}')\n",
    "# PART 3\n",
    "    # print the output for quantity, price and total cost of item_1 and item_2, respectively\n",
    "    print('\\nTOTAL COST') # label for total cost section\n",
    "    item_1.print_item_cost() #prints cost details for item_1\n",
    "    item_2.print_item_cost() #prints cost details for item_2\n",
    "    # calculate total cost for all items.\n",
    "    total_cost = item_1.get_total_cost() + item_2.get_total_cost() # total cost of all items\n",
    "    print(f'\\nTotal: ${total_cost:.2f}')# print the total cost of all items\n",
    "\n",
    "# call the main function to start the program.\n",
    "if __name__ == \"__main__\":\n",
    "    main()\n",
    "\n"
   ]
  }
 ],
 "metadata": {
  "kernelspec": {
   "display_name": "base",
   "language": "python",
   "name": "python3"
  },
  "language_info": {
   "codemirror_mode": {
    "name": "ipython",
    "version": 3
   },
   "file_extension": ".py",
   "mimetype": "text/x-python",
   "name": "python",
   "nbconvert_exporter": "python",
   "pygments_lexer": "ipython3",
   "version": "3.11.5"
  }
 },
 "nbformat": 4,
 "nbformat_minor": 2
}
