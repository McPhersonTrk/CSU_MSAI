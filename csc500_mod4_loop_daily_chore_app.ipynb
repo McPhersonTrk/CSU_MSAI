{
 "cells": [
  {
   "cell_type": "code",
   "execution_count": null,
   "metadata": {},
   "outputs": [],
   "source": [
    "# here is a fun app that turns chores into a game.\n",
    "# the game will earn points, points are used to buy an allowance. \n",
    "# $1.25 per point"
   ]
  },
  {
   "cell_type": "code",
   "execution_count": 3,
   "metadata": {},
   "outputs": [
    {
     "name": "stdout",
     "output_type": "stream",
     "text": [
      "\n",
      "--- Round 1 ---\n",
      "       kid  total_points  total_allowance          chore\n",
      "0     john             1             1.25         vacuum\n",
      "1    jacob             1             1.25         dishes\n",
      "2   jingle             2             2.50  clean bedroom\n",
      "3   heimer            10            12.50         dishes\n",
      "4  schmidt             1             1.25          sweep\n",
      "\n",
      "--- Round 2 ---\n",
      "       kid  total_points  total_allowance              chore\n",
      "0     john             2             2.50  clean living room\n",
      "1    jacob             4             5.00      clean kitchen\n",
      "2   jingle             6             7.50      clean kitchen\n",
      "3   heimer            15            18.75      clean kitchen\n",
      "4  schmidt             4             5.00      clean kitchen\n",
      "\n",
      "--- Round 3 ---\n",
      "       kid  total_points  total_allowance              chore\n",
      "0     john             7             8.75  clean living room\n",
      "1    jacob             6             7.50  clean living room\n",
      "2   jingle             8            10.00     clean bathroom\n",
      "3   heimer            23            28.75     clean bathroom\n",
      "4  schmidt            13            16.25                mop\n",
      "\n",
      "--- Round 4 ---\n",
      "       kid  total_points  total_allowance   chore\n",
      "0     john            10            12.50   sweep\n",
      "1    jacob            11            13.75     mop\n",
      "2   jingle            16            20.00  vacuum\n",
      "3   heimer            31            38.75  dishes\n",
      "4  schmidt            22            27.50  vacuum\n",
      "\n",
      "--- Round 5 ---\n",
      "       kid  total_points  total_allowance              chore\n",
      "0     john            19            23.75      clean bedroom\n",
      "1    jacob            12            15.00  clean living room\n",
      "2   jingle            24            30.00                mop\n",
      "3   heimer            33            41.25             dishes\n",
      "4  schmidt            30            37.50     clean bathroom\n",
      "Game over! Here's the final status:\n"
     ]
    }
   ],
   "source": [
    "import random\n",
    "import pandas as pd\n",
    "\n",
    "# Chores and point range\n",
    "chores = ['dishes', 'sweep', 'mop', 'vacuum', 'clean bathroom', 'clean kitchen', 'clean bedroom', 'clean living room']\n",
    "points_range = range(1, 11)  \n",
    "# Kids\n",
    "kids = ['john', 'jacob', 'jingle', 'heimer', 'schmidt']\n",
    "# Initial points and allowance\n",
    "points = [0] * len(kids)\n",
    "# Create initial DataFrame\n",
    "df = pd.DataFrame({\n",
    "    'kid': kids,\n",
    "    'total_points': points,\n",
    "    'total_allowance': points,  \n",
    "    'chore': [''] * len(kids)  \n",
    "})\n",
    "def play_round():\n",
    "    # For loop to assign a chore and points for each kid\n",
    "    for i, kid in enumerate(kids):\n",
    "        # Assign a random chore\n",
    "        chore = random.choice(chores)\n",
    "        # Assign random points\n",
    "        points_earned = random.choice(points_range)\n",
    "        # Update DataFrame with the new chore and points earned\n",
    "        df.at[i, 'chore'] = chore\n",
    "        df.at[i, 'total_points'] += points_earned\n",
    "    # Update allowance using list comprehension\n",
    "    df['total_allowance'] = [round(points * 1.25, 2) for points in df['total_points']]\n",
    "# While loop to keeps the game running.\n",
    "round_num = 0\n",
    "while True:\n",
    "    print(f\"\\n--- Round {round_num + 1} ---\")\n",
    "    play_round()  # Play a round\n",
    "    # updated DataFrame\n",
    "    print(df)\n",
    "    # want to play another round\n",
    "    continue_game = input(\"Do you want to play another round? (yes/no): \").strip().lower()\n",
    "    if continue_game == 'no':\n",
    "        print(\"Game over! Here's the final status:\")\n",
    "        break\n",
    "    else:\n",
    "        round_num += 1\n"
   ]
  }
 ],
 "metadata": {
  "kernelspec": {
   "display_name": "base",
   "language": "python",
   "name": "python3"
  },
  "language_info": {
   "codemirror_mode": {
    "name": "ipython",
    "version": 3
   },
   "file_extension": ".py",
   "mimetype": "text/x-python",
   "name": "python",
   "nbconvert_exporter": "python",
   "pygments_lexer": "ipython3",
   "version": "3.11.5"
  }
 },
 "nbformat": 4,
 "nbformat_minor": 2
}
