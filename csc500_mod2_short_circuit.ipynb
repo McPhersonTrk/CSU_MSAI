{
 "cells": [
  {
   "cell_type": "code",
   "execution_count": null,
   "metadata": {},
   "outputs": [],
   "source": []
  },
  {
   "cell_type": "code",
   "execution_count": 9,
   "metadata": {},
   "outputs": [
    {
     "name": "stdout",
     "output_type": "stream",
     "text": [
      "2024-08-22 23:17:30.628901\n"
     ]
    }
   ],
   "source": [
    "from datetime import datetime\n",
    "\n",
    "# the current time is?\n",
    "now = datetime.now()\n",
    "print(now)\n"
   ]
  },
  {
   "cell_type": "code",
   "execution_count": 9,
   "metadata": {},
   "outputs": [
    {
     "name": "stdout",
     "output_type": "stream",
     "text": [
      "No access, complete required tasks.\n"
     ]
    }
   ],
   "source": [
    "from datetime import datetime\n",
    "\n",
    "# Check if kiddo has met the requirements:\n",
    "def access_to_games(math_check, science_check, reading_check):\n",
    "    # Check if the time is between 1800h and 2000h\n",
    "    current_time = datetime.now().hour\n",
    "    time_valid = 18 <= current_time < 24  # Fixed the time condition\n",
    "    \n",
    "    # Short-circuit, 'or' operator checks if any of the tasks are done\n",
    "    # If any of the tasks are done, the required_task will be True\n",
    "    required_task = math_check or science_check or reading_check\n",
    "    \n",
    "    # 'and' operator checks if both conditions are met\n",
    "    # if one condition is False, thw whole expression is False\n",
    "    if time_valid and required_task:\n",
    "        return \"Access to games granted.\"\n",
    "    else:\n",
    "        return \"No access, complete required tasks.\"\n",
    "\n",
    "# user input function testing\n",
    "# using an input function we can test the short circuit program:\n",
    "input_math_check= input('has the kiddon done 30-minutes of math?').strip().lower()\n",
    "input_science_check= input('has the kiddon done 30-minutes of science?').strip().lower()\n",
    "input_reading_check= input('has the kiddon done 30-minutes of reading?').strip().lower()\n",
    "\n",
    "# convert input to boolean\n",
    "math_check = input_math_check == 'yes'   \n",
    "science_check = input_science_check == 'yes' \n",
    "reading_check = input_reading_check == 'yes' \n",
    "\n",
    "\n",
    "# Check if access is granted\n",
    "result = access_to_games(math_check, science_check, reading_check)\n",
    "print(result)"
   ]
  },
  {
   "cell_type": "code",
   "execution_count": null,
   "metadata": {},
   "outputs": [],
   "source": []
  },
  {
   "cell_type": "code",
   "execution_count": null,
   "metadata": {},
   "outputs": [],
   "source": []
  }
 ],
 "metadata": {
  "kernelspec": {
   "display_name": "base",
   "language": "python",
   "name": "python3"
  },
  "language_info": {
   "codemirror_mode": {
    "name": "ipython",
    "version": 3
   },
   "file_extension": ".py",
   "mimetype": "text/x-python",
   "name": "python",
   "nbconvert_exporter": "python",
   "pygments_lexer": "ipython3",
   "version": "3.11.5"
  }
 },
 "nbformat": 4,
 "nbformat_minor": 2
}
