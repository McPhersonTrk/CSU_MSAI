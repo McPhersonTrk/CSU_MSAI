{
 "cells": [
  {
   "cell_type": "code",
   "execution_count": 1,
   "metadata": {},
   "outputs": [
    {
     "name": "stdout",
     "output_type": "stream",
     "text": [
      "[]\n"
     ]
    }
   ],
   "source": [
    "# Lists\n",
    "# Lists are used to store multiple items in a single variable.\n",
    "#lists are created using square brackets\n",
    "#lists are ordered, changeable and allow duplicate values.\n",
    "\n",
    "# create a list:\n",
    "cars=[]\n",
    "print(cars)"
   ]
  },
  {
   "cell_type": "code",
   "execution_count": 5,
   "metadata": {},
   "outputs": [
    {
     "name": "stdout",
     "output_type": "stream",
     "text": [
      "['ferrari']\n"
     ]
    }
   ],
   "source": [
    "# add items to the list:\n",
    "\n",
    "cars.append('ferrari')\n",
    "print(cars)"
   ]
  },
  {
   "cell_type": "code",
   "execution_count": 10,
   "metadata": {},
   "outputs": [
    {
     "name": "stdout",
     "output_type": "stream",
     "text": [
      "['opel', 'ferrari']\n"
     ]
    }
   ],
   "source": [
    "cars.insert(0, 'opel')\n",
    "print(cars)"
   ]
  },
  {
   "cell_type": "code",
   "execution_count": 11,
   "metadata": {},
   "outputs": [
    {
     "name": "stdout",
     "output_type": "stream",
     "text": [
      "['opel', 'ferrari', 'porsche', 'audi']\n"
     ]
    }
   ],
   "source": [
    "cars.extend(['porsche', 'audi'])\n",
    "print(cars)"
   ]
  },
  {
   "cell_type": "code",
   "execution_count": 12,
   "metadata": {},
   "outputs": [
    {
     "name": "stdout",
     "output_type": "stream",
     "text": [
      "['ferrari', 'porsche', 'audi']\n"
     ]
    }
   ],
   "source": [
    "# remove items from the list:\n",
    "cars.remove('opel')\n",
    "print(cars)"
   ]
  },
  {
   "cell_type": "code",
   "execution_count": 14,
   "metadata": {},
   "outputs": [
    {
     "name": "stdout",
     "output_type": "stream",
     "text": [
      "['ferrari', 'porsche']\n"
     ]
    }
   ],
   "source": [
    "cars.pop(2)\n",
    "print(cars)"
   ]
  },
  {
   "cell_type": "code",
   "execution_count": 15,
   "metadata": {},
   "outputs": [
    {
     "name": "stdout",
     "output_type": "stream",
     "text": [
      "['porsche']\n"
     ]
    }
   ],
   "source": [
    "del cars[0] \n",
    "print(cars)"
   ]
  },
  {
   "cell_type": "code",
   "execution_count": 16,
   "metadata": {},
   "outputs": [
    {
     "name": "stdout",
     "output_type": "stream",
     "text": [
      "{'beer': 6, 'burgers': 1, 'porkchops': 2, 'chicken': 3, 'eggs': 12, 'milk': 1, 'bread': 1, 'butter': 1, 'cheese': 1}\n"
     ]
    }
   ],
   "source": [
    "# dictionaries\n",
    "# dictionaries are used to store data values in key:value pairs.\n",
    "# A dictionary is a collection which is ordered*, changeable and does not allow duplicates.\n",
    "# Dictionaries are written with curly brackets, and have keys and values:\n",
    "\n",
    "# create a dictionary:\n",
    "groceries = {'beer': 6,'burgers': 1,'porkchops': 2,'chicken': 3, 'eggs': 12, 'milk': 1, 'bread': 1, 'butter': 1, 'cheese': 1}\n",
    "print(groceries)"
   ]
  },
  {
   "cell_type": "code",
   "execution_count": 17,
   "metadata": {},
   "outputs": [
    {
     "name": "stdout",
     "output_type": "stream",
     "text": [
      "{'beer': 6, 'burgers': 1, 'porkchops': 2, 'chicken': 3, 'eggs': 12, 'milk': 1, 'bread': 1, 'butter': 1, 'cheese': 1, 'wine': 1}\n"
     ]
    }
   ],
   "source": [
    "# add items to the dictionary:\n",
    "groceries['wine'] = 1\n",
    "print(groceries)"
   ]
  },
  {
   "cell_type": "code",
   "execution_count": 18,
   "metadata": {},
   "outputs": [
    {
     "name": "stdout",
     "output_type": "stream",
     "text": [
      "{'beer': 6, 'burgers': 1, 'porkchops': 2, 'eggs': 12, 'milk': 1, 'bread': 1, 'butter': 1, 'cheese': 1, 'wine': 1}\n"
     ]
    }
   ],
   "source": [
    "# remove items from the dictionary:\n",
    "del groceries['chicken']\n",
    "print(groceries)"
   ]
  },
  {
   "cell_type": "code",
   "execution_count": 19,
   "metadata": {},
   "outputs": [
    {
     "name": "stdout",
     "output_type": "stream",
     "text": [
      "{'beer': 6, 'burgers': 1, 'porkchops': 2, 'eggs': 12, 'milk': 1, 'bread': 1, 'cheese': 1, 'wine': 1}\n"
     ]
    }
   ],
   "source": [
    "groceries.pop('butter')\n",
    "print(groceries)"
   ]
  },
  {
   "cell_type": "code",
   "execution_count": 20,
   "metadata": {},
   "outputs": [
    {
     "name": "stdout",
     "output_type": "stream",
     "text": [
      "{'beer': 6, 'burgers': 1, 'porkchops': 2, 'eggs': 12, 'milk': 1, 'bread': 1, 'cheese': 1}\n"
     ]
    }
   ],
   "source": [
    "groceries.popitem()\n",
    "print(groceries)"
   ]
  }
 ],
 "metadata": {
  "kernelspec": {
   "display_name": "base",
   "language": "python",
   "name": "python3"
  },
  "language_info": {
   "codemirror_mode": {
    "name": "ipython",
    "version": 3
   },
   "file_extension": ".py",
   "mimetype": "text/x-python",
   "name": "python",
   "nbconvert_exporter": "python",
   "pygments_lexer": "ipython3",
   "version": "3.11.5"
  }
 },
 "nbformat": 4,
 "nbformat_minor": 2
}
