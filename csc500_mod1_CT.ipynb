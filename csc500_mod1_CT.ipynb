{
 "cells": [
  {
   "cell_type": "code",
   "execution_count": 8,
   "metadata": {},
   "outputs": [],
   "source": [
    "##### Module 1 Criticle Thinking\n",
    "##### Colorado State University Global Campus\n",
    "##### csc500-1\n",
    "##### Dr Jessica SCwartz "
   ]
  },
  {
   "cell_type": "markdown",
   "metadata": {},
   "source": [
    "# Part 1.\n",
    "##### Write a Python Program to find addition and subtraction of two numbers.\n",
    "- Ask the user to input the two numbers (num1 & num2.)\n",
    "- Given those two numbers, add them together to find the output.\n",
    "- Also, subtract the two numbers to find the output.\n"
   ]
  },
  {
   "cell_type": "code",
   "execution_count": 6,
   "metadata": {},
   "outputs": [
    {
     "name": "stdout",
     "output_type": "stream",
     "text": [
      "The sum of 1496.0 and 542.0 is 2,038.00000!\n",
      "The difference of 1496.0 and 542.0 is 954.00000\n"
     ]
    }
   ],
   "source": [
    "# Part1: Code\n",
    "\n",
    "# Function to add two numbers, 'the sum fiunction'.\n",
    "def add(num1, num2):\n",
    "    return num1 + num2\n",
    "\n",
    "# Function to subtract two numbers, 'the differnece function'.\n",
    "def subtract(num1, num2):\n",
    "    return num1 - num2  \n",
    "\n",
    "#User input:\n",
    "num1 = float(input(\"Enter the first number: \"))\n",
    "num2 = float(input(\"Enter the second number: \"))\n",
    "\n",
    "# calculate the sum and difference functions\n",
    "sum= add(num1, num2)\n",
    "difference= subtract(num1, num2)\n",
    "\n",
    "print(f\"The sum of {num1} and {num2} is {sum:,.5f}!\")\n",
    "\n",
    "#calculate the difference function\n",
    "print(f\"The difference of {num1} and {num2} is {difference:,.5f}\")\n",
    "\n"
   ]
  },
  {
   "cell_type": "markdown",
   "metadata": {},
   "source": [
    "# Part 2.\n",
    "##### Write a Python program to find the multiplication and division of two numbers.\n",
    "- Ask the user to input two numbers (num1 and num2). Given those two numbers, multiply them together to find the output. Also, divide num1/num2 to find the output.\n",
    "- Compile and submit your pseudocode, source code, and screenshots of the application executing the code from parts 1 and 2, the results and GIT repository in a single document (Word is preferred)."
   ]
  },
  {
   "cell_type": "code",
   "execution_count": 7,
   "metadata": {},
   "outputs": [
    {
     "name": "stdout",
     "output_type": "stream",
     "text": [
      "The multiple of 1496.0 by 542.0 is 810,832.00000!\n",
      "The division of 1496.0 by 542.0 is 2.76015! \n"
     ]
    }
   ],
   "source": [
    "# Part1: Code\n",
    "\n",
    "# Function to Multiply two numbers, 'the multiple function'.\n",
    "def multiply(num1, num2):\n",
    "    return num1 * num2\n",
    "\n",
    "# Function to subtract two numbers, 'the differnece function'.\n",
    "def divide(num1, num2):\n",
    "    return num1 / num2  \n",
    "\n",
    "#User input:\n",
    "num1 = float(input(\"Enter the first number: \"))\n",
    "num2 = float(input(\"Enter the second number: \"))\n",
    "\n",
    "# calculate the sum and difference functions\n",
    "multiply= multiply(num1, num2)\n",
    "divide= divide(num1, num2)\n",
    "\n",
    "print(f\"The multiple of {num1} by {num2} is {multiply:,.5f}!\")\n",
    "\n",
    "#calculate the difference function\n",
    "print(f\"The division of {num1} by {num2} is {divide:,.5f}! \")\n"
   ]
  }
 ],
 "metadata": {
  "kernelspec": {
   "display_name": "Python 3",
   "language": "python",
   "name": "python3"
  },
  "language_info": {
   "codemirror_mode": {
    "name": "ipython",
    "version": 3
   },
   "file_extension": ".py",
   "mimetype": "text/x-python",
   "name": "python",
   "nbconvert_exporter": "python",
   "pygments_lexer": "ipython3",
   "version": "3.11.5"
  }
 },
 "nbformat": 4,
 "nbformat_minor": 2
}
